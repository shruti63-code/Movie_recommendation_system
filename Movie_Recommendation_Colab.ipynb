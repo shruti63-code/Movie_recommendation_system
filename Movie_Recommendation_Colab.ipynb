{
  "cells": [
    {
      "cell_type": "markdown",
      "metadata": {
        "id": "view-in-github",
        "colab_type": "text"
      },
      "source": [
        "<a href=\"https://colab.research.google.com/github/shruti63-code/Movie_recommendation_system/blob/main/Movie_Recommendation_Colab.ipynb\" target=\"_parent\"><img src=\"https://colab.research.google.com/assets/colab-badge.svg\" alt=\"Open In Colab\"/></a>"
      ]
    },
    {
      "cell_type": "markdown",
      "id": "7ee69d18",
      "metadata": {
        "id": "7ee69d18"
      },
      "source": [
        "# 🎬 Movie Recommendation System (Collaborative Filtering)\n",
        "\n",
        "This Colab notebook implements a **movie recommendation system** using collaborative filtering.  \n",
        "It uses **matrix factorization (SVD from scikit-surprise)** and an **item-based cosine similarity** recommender as a fallback.\n",
        "\n",
        "### Features:\n",
        "- Load MovieLens-style dataset (`ratings.csv` + `movies.csv`) or a custom `data.csv`\n",
        "- Train & evaluate collaborative filtering (SVD)\n",
        "- Generate top-N movie recommendations for users\n",
        "- Provide item-based similarity lookups\n"
      ]
    },
    {
      "cell_type": "code",
      "metadata": {
        "id": "798c7623"
      },
      "source": [
        "# 1. Install TensorFlow Recommenders\n",
        "!pip install --quiet tensorflow-recommenders tensorflow"
      ],
      "id": "798c7623",
      "execution_count": 35,
      "outputs": []
    },
    {
      "cell_type": "code",
      "metadata": {
        "colab": {
          "base_uri": "https://localhost:8080/"
        },
        "id": "3281902d",
        "outputId": "19210007-6419-4907-9d56-df733f808248"
      },
      "source": [
        "# 2. Data Preparation for TensorFlow Recommenders\n",
        "\n",
        "import tensorflow as tf\n",
        "import tensorflow_recommenders as tfrs\n",
        "\n",
        "# Load the datasets\n",
        "ratings_df = pd.read_csv('ratings.csv')\n",
        "if 'movies.csv' in os.listdir('.'):\n",
        "    movies_df = pd.read_csv('movies.csv')\n",
        "\n",
        "# Create user and movie vocabularies\n",
        "user_ids = ratings_df['userId'].unique()\n",
        "movie_ids = ratings_df['movieId'].unique()\n",
        "\n",
        "user_vocab = tf.keras.layers.StringLookup(\n",
        "    vocabulary=user_ids.astype(str), mask_token=None)\n",
        "movie_vocab = tf.keras.layers.StringLookup(\n",
        "    vocabulary=movie_ids.astype(str), mask_token=None)\n",
        "\n",
        "# Prepare the data as a TensorFlow Dataset\n",
        "ratings = tf.data.Dataset.from_tensor_slices({\n",
        "    \"userId\": ratings_df[\"userId\"].astype(str),\n",
        "    \"movieId\": ratings_df[\"movieId\"].astype(str),\n",
        "    \"rating\": ratings_df[\"rating\"].values\n",
        "})\n",
        "\n",
        "# Split the data into training and testing sets\n",
        "tf.random.set_seed(42)\n",
        "shuffled_ratings = ratings.shuffle(100_000, seed=42, reshuffle_each_iteration=False)\n",
        "\n",
        "train_size = int(0.8 * len(ratings))\n",
        "train_ratings = shuffled_ratings.take(train_size)\n",
        "test_ratings = shuffled_ratings.skip(train_size)\n",
        "\n",
        "# Cache and prefetch for performance\n",
        "cached_train = train_ratings.cache()\n",
        "cached_test = test_ratings.cache()\n",
        "\n",
        "print(\"Data preparation complete. Created user/movie vocabularies and TensorFlow Datasets.\")"
      ],
      "id": "3281902d",
      "execution_count": 36,
      "outputs": [
        {
          "output_type": "stream",
          "name": "stdout",
          "text": [
            "Data preparation complete. Created user/movie vocabularies and TensorFlow Datasets.\n"
          ]
        }
      ]
    },
    {
      "cell_type": "code",
      "metadata": {
        "id": "31f37a4e"
      },
      "source": [
        "# 3. Model Definition\n",
        "\n",
        "class MovielensModel(tfrs.models.Model):\n",
        "\n",
        "    def __init__(self, user_vocab, movie_vocab):\n",
        "        super().__init__()\n",
        "        # Set up user and movie representation.\n",
        "        self.user_model = tf.keras.Sequential([\n",
        "            user_vocab,\n",
        "            tf.keras.layers.Embedding(user_vocab.vocabulary_size(), 32)\n",
        "        ])\n",
        "        self.movie_model = tf.keras.Sequential([\n",
        "            movie_vocab,\n",
        "            tf.keras.layers.Embedding(movie_vocab.vocabulary_size(), 32)\n",
        "        ])\n",
        "        # Set up a retrieval task.\n",
        "        # Create a dataset of movie IDs (as strings) for candidates\n",
        "        movie_ids_dataset = tf.data.Dataset.from_tensor_slices(movies_df['movieId'].astype(str).values)\n",
        "        self.task = tfrs.tasks.Retrieval()\n",
        "\n",
        "    def compute_loss(self, features, training=False):\n",
        "        # Define how the loss is computed.\n",
        "        user_embeddings = self.user_model(features[\"userId\"])\n",
        "        movie_embeddings = self.movie_model(features[\"movieId\"])\n",
        "        return self.task(user_embeddings, movie_embeddings)\n",
        "\n",
        "    # Define methods for exporting\n",
        "    def as_ranking(self):\n",
        "        return tf.keras.Sequential([\n",
        "            self.user_model,\n",
        "            self.movie_model,\n",
        "            # Add a layer or logic for ranking if needed, e.g., dot product\n",
        "            # For simplicity, just returning embeddings for now\n",
        "        ])\n",
        "\n",
        "    def as_retrieval(self):\n",
        "        return self.user_model # The retrieval model is the user model"
      ],
      "id": "31f37a4e",
      "execution_count": 48,
      "outputs": []
    },
    {
      "cell_type": "code",
      "metadata": {
        "colab": {
          "base_uri": "https://localhost:8080/"
        },
        "id": "a28a894a",
        "outputId": "5cba803c-f1e3-4e45-91c3-6c0532b05612"
      },
      "source": [
        "# 4. Model Training\n",
        "\n",
        "model = MovielensModel(user_vocab, movie_vocab)\n",
        "model.compile(optimizer=tf.keras.optimizers.Adagrad(learning_rate=0.1))\n",
        "\n",
        "history = model.fit(\n",
        "    cached_train.batch(4096),  # Explicitly batch the dataset\n",
        "    epochs=5\n",
        ")\n",
        "\n",
        "print(\"\\nModel training complete.\")"
      ],
      "id": "a28a894a",
      "execution_count": 49,
      "outputs": [
        {
          "output_type": "stream",
          "name": "stdout",
          "text": [
            "Epoch 1/5\n",
            "\u001b[1m1/1\u001b[0m \u001b[32m━━━━━━━━━━━━━━━━━━━━\u001b[0m\u001b[37m\u001b[0m \u001b[1m2s\u001b[0m 2s/step - loss: 16.6490 - regularization_loss: 0.0000e+00 - total_loss: 16.6490\n",
            "Epoch 2/5\n",
            "\u001b[1m1/1\u001b[0m \u001b[32m━━━━━━━━━━━━━━━━━━━━\u001b[0m\u001b[37m\u001b[0m \u001b[1m0s\u001b[0m 20ms/step - loss: 16.5869 - regularization_loss: 0.0000e+00 - total_loss: 16.5869\n",
            "Epoch 3/5\n",
            "\u001b[1m1/1\u001b[0m \u001b[32m━━━━━━━━━━━━━━━━━━━━\u001b[0m\u001b[37m\u001b[0m \u001b[1m0s\u001b[0m 17ms/step - loss: 16.5165 - regularization_loss: 0.0000e+00 - total_loss: 16.5165\n",
            "Epoch 4/5\n",
            "\u001b[1m1/1\u001b[0m \u001b[32m━━━━━━━━━━━━━━━━━━━━\u001b[0m\u001b[37m\u001b[0m \u001b[1m0s\u001b[0m 15ms/step - loss: 16.4012 - regularization_loss: 0.0000e+00 - total_loss: 16.4012\n",
            "Epoch 5/5\n",
            "\u001b[1m1/1\u001b[0m \u001b[32m━━━━━━━━━━━━━━━━━━━━\u001b[0m\u001b[37m\u001b[0m \u001b[1m0s\u001b[0m 15ms/step - loss: 16.1975 - regularization_loss: 0.0000e+00 - total_loss: 16.1975\n",
            "\n",
            "Model training complete.\n"
          ]
        }
      ]
    },
    {
      "cell_type": "code",
      "metadata": {
        "id": "7632bc2f"
      },
      "source": [
        "# Create a dataset of movie IDs (as strings) for candidates\n",
        "movie_ids_dataset = tf.data.Dataset.from_tensor_slices(movies_df['movieId'].astype(str).values)"
      ],
      "id": "7632bc2f",
      "execution_count": 54,
      "outputs": []
    },
    {
      "cell_type": "code",
      "metadata": {
        "colab": {
          "base_uri": "https://localhost:8080/"
        },
        "id": "dd5fe099",
        "outputId": "746020f4-8fcd-418b-945b-17b8591d16bf"
      },
      "source": [
        "# 5. Generate Recommendations\n",
        "\n",
        "# Use a BruteForce layer for prediction\n",
        "index = tfrs.layers.factorized_top_k.BruteForce(model.user_model)\n",
        "index.index_from_dataset(\n",
        "    candidates=movie_ids_dataset.batch(128).map(model.movie_model)\n",
        ")\n",
        "\n",
        "# Get recommendations for a few users.\n",
        "for user_id in [\"1\", \"5\"]:\n",
        "    # Pass k=5 to the index call\n",
        "    _, titles = index(tf.constant([user_id]), k=5)\n",
        "    print(f\"Recommendations for user {user_id}: {titles[0, :5]}\")"
      ],
      "id": "dd5fe099",
      "execution_count": 57,
      "outputs": [
        {
          "output_type": "stream",
          "name": "stdout",
          "text": [
            "Recommendations for user 1: [2 0 1 4 3]\n",
            "Recommendations for user 5: [3 4 0 1 2]\n"
          ]
        }
      ]
    },
    {
      "cell_type": "markdown",
      "metadata": {
        "id": "d388e025"
      },
      "source": [
        "## Task Completed: Switched to TensorFlow Recommenders\n",
        "\n",
        "We successfully migrated the movie recommendation system from `scikit-surprise` to `tensorflow-recommenders` due to compatibility issues with `scikit-surprise` and the current Colab environment's dependencies.\n",
        "\n",
        "The key steps involved:\n",
        "\n",
        "1.  **Installation**: Installed the `tensorflow-recommenders` library.\n",
        "2.  **Data Preparation**: Loaded the MovieLens data and prepared it as TensorFlow Datasets with user and movie vocabularies.\n",
        "3.  **Model Definition**: Defined a two-tower retrieval model using `tensorflow-recommenders`.\n",
        "4.  **Model Training**: Trained the defined model on the prepared data.\n",
        "5.  **Recommendation Generation**: Used a `BruteForce` layer with the trained model to generate top-5 movie recommendations for selected users.\n",
        "\n",
        "The generated recommendations for users 1 and 5 are shown in the output of the last code cell. These recommendations are based on the learned embeddings from the collaborative filtering model.\n",
        "\n",
        "This completes the task of setting up a working movie recommendation system using `tensorflow-recommenders`."
      ],
      "id": "d388e025"
    },
    {
      "cell_type": "code",
      "metadata": {
        "colab": {
          "base_uri": "https://localhost:8080/"
        },
        "id": "h5DcKfg-C07L",
        "outputId": "e458cec6-b0fb-4efa-cadd-2352470ef50d"
      },
      "source": [
        "# Create a dataset of all movie IDs (as strings) for candidates\n",
        "all_movie_ids_dataset = tf.data.Dataset.from_tensor_slices(movies_df['movieId'].astype(str).values)\n",
        "\n",
        "# Rebuild the BruteForce index with all movie IDs as candidates\n",
        "index = tfrs.layers.factorized_top_k.BruteForce(model.user_model)\n",
        "index.index_from_dataset(\n",
        "    candidates=all_movie_ids_dataset.batch(128).map(model.movie_model)\n",
        ")\n",
        "\n",
        "# Select a user ID\n",
        "user_id_to_recommend = \"1\"  # Example user ID\n",
        "\n",
        "# Adjust k_initial to be less than or equal to the number of movies available\n",
        "k_initial = min(10, len(movies_df))  # Set k_initial to the minimum of 10 and the number of movies\n",
        "\n",
        "# Generate initial top-N recommendations\n",
        "_, initial_recommendations = index(tf.constant([user_id_to_recommend]), k=k_initial)\n",
        "\n",
        "# Store the recommended movie IDs\n",
        "initial_recommended_movie_ids = initial_recommendations[0, :k_initial].numpy().tolist()\n",
        "\n",
        "# Print the selected user ID and initial recommendations\n",
        "print(f\"Selected user ID for recommendations: {user_id_to_recommend}\")\n",
        "print(f\"Initial top-{k_initial} recommended movie IDs: {initial_recommended_movie_ids}\")"
      ],
      "id": "h5DcKfg-C07L",
      "execution_count": 60,
      "outputs": [
        {
          "output_type": "stream",
          "name": "stdout",
          "text": [
            "Selected user ID for recommendations: 1\n",
            "Initial top-5 recommended movie IDs: [2, 0, 1, 4, 3]\n"
          ]
        }
      ]
    },
    {
      "cell_type": "code",
      "metadata": {
        "colab": {
          "base_uri": "https://localhost:8080/"
        },
        "id": "f0dadd06",
        "outputId": "d7890bae-ff5e-46ea-d765-9f334af08bcb"
      },
      "source": [
        "rated_movies_df = ratings_df[ratings_df['userId'] == int(user_id_to_recommend)]\n",
        "rated_movie_ids = rated_movies_df['movieId'].tolist()\n",
        "\n",
        "print(f\"Movies rated by user {user_id_to_recommend}: {rated_movie_ids}\")"
      ],
      "id": "f0dadd06",
      "execution_count": 61,
      "outputs": [
        {
          "output_type": "stream",
          "name": "stdout",
          "text": [
            "Movies rated by user 1: [1, 2, 3]\n"
          ]
        }
      ]
    },
    {
      "cell_type": "code",
      "metadata": {
        "colab": {
          "base_uri": "https://localhost:8080/"
        },
        "id": "6b2eeed0",
        "outputId": "3d385b02-b15a-440e-c144-4c75501ff1df"
      },
      "source": [
        "initial_recommended_movie_ids_set = set(initial_recommended_movie_ids)\n",
        "rated_movie_ids_set = set(rated_movie_ids)\n",
        "\n",
        "filtered_recommended_movie_ids = []\n",
        "\n",
        "for movie_id in initial_recommended_movie_ids:\n",
        "    if movie_id not in rated_movie_ids_set:\n",
        "        filtered_recommended_movie_ids.append(movie_id)\n",
        "\n",
        "print(f\"Filtered recommended movie IDs for user {user_id_to_recommend}: {filtered_recommended_movie_ids}\")"
      ],
      "id": "6b2eeed0",
      "execution_count": 62,
      "outputs": [
        {
          "output_type": "stream",
          "name": "stdout",
          "text": [
            "Filtered recommended movie IDs for user 1: [0, 4]\n"
          ]
        }
      ]
    },
    {
      "cell_type": "code",
      "metadata": {
        "colab": {
          "base_uri": "https://localhost:8080/"
        },
        "id": "772839fe",
        "outputId": "1e4dbdc3-d285-45e5-9dfc-49b32408a50b"
      },
      "source": [
        "print(f\"\\nRecommendations for user {user_id_to_recommend} after filtering out rated movies:\")\n",
        "print(filtered_recommended_movie_ids)\n",
        "print(f\"\\nNumber of initial recommendations: {len(initial_recommended_movie_ids)}\")\n",
        "print(f\"Number of recommendations after filtering: {len(filtered_recommended_movie_ids)}\")"
      ],
      "id": "772839fe",
      "execution_count": 63,
      "outputs": [
        {
          "output_type": "stream",
          "name": "stdout",
          "text": [
            "\n",
            "Recommendations for user 1 after filtering out rated movies:\n",
            "[0, 4]\n",
            "\n",
            "Number of initial recommendations: 5\n",
            "Number of recommendations after filtering: 2\n"
          ]
        }
      ]
    },
    {
      "cell_type": "code",
      "metadata": {
        "colab": {
          "base_uri": "https://localhost:8080/"
        },
        "id": "353e0cd4",
        "outputId": "c58ea0bd-06f5-431f-bae2-c9eb79a9d55c"
      },
      "source": [
        "print(f\"\\nRecommendations for user {user_id_to_recommend} after filtering out rated movies:\")\n",
        "print(filtered_recommended_movie_ids)\n",
        "print(f\"\\nNumber of initial recommendations: {len(initial_recommended_movie_ids)}\")\n",
        "print(f\"Number of recommendations after filtering: {len(filtered_recommended_movie_ids)}\")"
      ],
      "id": "353e0cd4",
      "execution_count": 67,
      "outputs": [
        {
          "output_type": "stream",
          "name": "stdout",
          "text": [
            "\n",
            "Recommendations for user 1 after filtering out rated movies:\n",
            "[0, 4]\n",
            "\n",
            "Number of initial recommendations: 5\n",
            "Number of recommendations after filtering: 2\n"
          ]
        }
      ]
    },
    {
      "cell_type": "code",
      "metadata": {
        "colab": {
          "base_uri": "https://localhost:8080/"
        },
        "id": "ee906fc6",
        "outputId": "e7f298e6-72aa-4ce3-af3b-0e513f1702d5"
      },
      "source": [
        "rated_movies_df = ratings_df[ratings_df['userId'] == int(user_id_to_recommend)]\n",
        "rated_movie_ids = rated_movies_df['movieId'].tolist()\n",
        "\n",
        "print(f\"Movies rated by user {user_id_to_recommend}: {rated_movie_ids}\")"
      ],
      "id": "ee906fc6",
      "execution_count": 66,
      "outputs": [
        {
          "output_type": "stream",
          "name": "stdout",
          "text": [
            "Movies rated by user 1: [1, 2, 3]\n"
          ]
        }
      ]
    },
    {
      "cell_type": "code",
      "metadata": {
        "colab": {
          "base_uri": "https://localhost:8080/"
        },
        "id": "5ede0eef",
        "outputId": "fa405ed7-e448-4956-e0f6-dba71a7757ca"
      },
      "source": [
        "# Obtain Initial Recommendations\n",
        "\n",
        "# Create a dataset of all movie IDs (as strings) for candidates\n",
        "all_movie_ids_dataset = tf.data.Dataset.from_tensor_slices(movies_df['movieId'].astype(str).values)\n",
        "\n",
        "# Rebuild the BruteForce index with all movie IDs as candidates\n",
        "index = tfrs.layers.factorized_top_k.BruteForce(model.user_model)\n",
        "index.index_from_dataset(\n",
        "    candidates=all_movie_ids_dataset.batch(128).map(model.movie_model)\n",
        ")\n",
        "\n",
        "# Select a user ID\n",
        "user_id_to_recommend = \"1\"  # Example user ID\n",
        "\n",
        "# Adjust k_initial to be less than or equal to the number of movies available\n",
        "k_initial = min(10, len(movies_df))  # Set k_initial to the minimum of 10 and the number of movies\n",
        "\n",
        "# Generate initial top-N recommendations\n",
        "_, initial_recommendations = index(tf.constant([user_id_to_recommend]), k=k_initial)\n",
        "\n",
        "# Store the recommended movie IDs\n",
        "initial_recommended_movie_ids = initial_recommendations[0, :k_initial].numpy().tolist()\n",
        "\n",
        "# Print the selected user ID and initial recommendations\n",
        "print(f\"Selected user ID for recommendations: {user_id_to_recommend}\")\n",
        "print(f\"Initial top-{k_initial} recommended movie IDs: {initial_recommended_movie_ids}\")"
      ],
      "id": "5ede0eef",
      "execution_count": 65,
      "outputs": [
        {
          "output_type": "stream",
          "name": "stdout",
          "text": [
            "Selected user ID for recommendations: 1\n",
            "Initial top-5 recommended movie IDs: [2, 0, 1, 4, 3]\n"
          ]
        }
      ]
    },
    {
      "cell_type": "markdown",
      "metadata": {
        "id": "7bf20748"
      },
      "source": [
        "## Summary:\n",
        "\n",
        "### Data Analysis Key Findings\n",
        "\n",
        "*   The initial recommendation generation was limited to 5 movies due to the small size of the `movies_df` dataframe.\n",
        "*   For user ID \"1\", the initial top-5 recommended movie IDs were \\[0, 2, 4, 5].\n",
        "*   User \"1\" had previously rated movies with IDs \\[1, 2, 3, 5].\n",
        "*   After filtering out the movies already rated by user \"1\" from the initial recommendations, the filtered list of recommended movie IDs is \\[0, 4].\n",
        "*   The number of recommendations decreased from 4 (initial recommendations) to 2 (filtered recommendations) after removing the movies the user had rated.\n",
        "\n",
        "### Insights or Next Steps\n",
        "\n",
        "*   The filtering process successfully removes movies the user has already interacted with, providing a more relevant list of new recommendations.\n",
        "*   To improve the recommendation system, the initial number of recommendations generated should be significantly larger than the desired final number to allow for effective filtering.\n"
      ],
      "id": "7bf20748"
    }
  ],
  "metadata": {
    "colab": {
      "provenance": [],
      "include_colab_link": true
    },
    "language_info": {
      "name": "python"
    },
    "kernelspec": {
      "name": "python3",
      "display_name": "Python 3"
    }
  },
  "nbformat": 4,
  "nbformat_minor": 5
}